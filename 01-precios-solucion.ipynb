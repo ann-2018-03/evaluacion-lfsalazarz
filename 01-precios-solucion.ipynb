{
 "cells": [
  {
   "cell_type": "markdown",
   "metadata": {},
   "source": [
    "\n",
    "* Procesar los datos históricos para conformar el conjunto de datos. Los archivos de Excel no pueden ser modificados y actualizados directamente por el operador del sistema. Su código debe leer los archivos y crear la serie de precios promedio diarios de la electricidad.\n",
    "\n",
    "\n",
    "* Determinar si el modelo debe pronosticar los precios promedios sin ninguna transformación, o si la inclusión de una transformación (logaritmo natural, raíz cúbica, raíz cuadrada, etc) resulta en un incremento de la precisión del pronóstico.\n",
    "\n",
    "\n",
    "* Generar el pronóstico para los precios de los próximos siete días.\n",
    "\n",
    "\n",
    "* Preparar el código para que el modelo sea entrenado usando el gradiente y el momentum.\n",
    "\n",
    "\n",
    "* Determinar cuál es el número óptimo de retardos (observaciones) que el modelo debe considerar hacia atrás para producir el pronóstico.\n",
    "\n",
    "\n",
    "* Determinar los valores óptimos de la tasa de aprendizaje y el momentum.\n"
   ]
  },
  {
   "cell_type": "code",
   "execution_count": 1,
   "metadata": {},
   "outputs": [],
   "source": [
    "import numpy as np\n",
    "import pandas as pd\n",
    "import matplotlib.pyplot as plt\n",
    "%matplotlib inline"
   ]
  },
  {
   "cell_type": "markdown",
   "metadata": {},
   "source": [
    "# Preprocesamiento"
   ]
  },
  {
   "cell_type": "markdown",
   "metadata": {},
   "source": [
    "### Leer los datos y almacenarlos por año"
   ]
  },
  {
   "cell_type": "code",
   "execution_count": 2,
   "metadata": {},
   "outputs": [
    {
     "data": {
      "text/plain": [
       "dict_keys(['1995', '1996', '1997', '1998', '1999', '2000', '2001', '2002', '2003', '2004', '2005', '2006', '2007', '2008', '2009', '2010', '2011', '2012', '2013', '2014', '2015', '2016', '2017', '2018'])"
      ]
     },
     "execution_count": 2,
     "metadata": {},
     "output_type": "execute_result"
    }
   ],
   "source": [
    "dfs = {}\n",
    "for year in range(1995, 2016):\n",
    "    dfs[str(year)] = pd.read_excel(f'./datos/precios/Precio_Bolsa_Nacional_($kwh)_{year}.xlsx')\n",
    "\n",
    "for year in range(2016, 2019):\n",
    "    dfs[str(year)] = pd.read_excel(f'./datos/precios/Precio_Bolsa_Nacional_($kwh)_{year}.xls')\n",
    "    \n",
    "dfs.keys()"
   ]
  },
  {
   "cell_type": "code",
   "execution_count": 3,
   "metadata": {},
   "outputs": [
    {
     "data": {
      "text/html": [
       "<div>\n",
       "<style scoped>\n",
       "    .dataframe tbody tr th:only-of-type {\n",
       "        vertical-align: middle;\n",
       "    }\n",
       "\n",
       "    .dataframe tbody tr th {\n",
       "        vertical-align: top;\n",
       "    }\n",
       "\n",
       "    .dataframe thead th {\n",
       "        text-align: right;\n",
       "    }\n",
       "</style>\n",
       "<table border=\"1\" class=\"dataframe\">\n",
       "  <thead>\n",
       "    <tr style=\"text-align: right;\">\n",
       "      <th></th>\n",
       "      <th>Unnamed: 0</th>\n",
       "      <th>Unnamed: 1</th>\n",
       "      <th>Unnamed: 2</th>\n",
       "      <th>Unnamed: 3</th>\n",
       "      <th>Unnamed: 4</th>\n",
       "      <th>Unnamed: 5</th>\n",
       "      <th>Unnamed: 6</th>\n",
       "      <th>Unnamed: 7</th>\n",
       "      <th>Unnamed: 8</th>\n",
       "      <th>Unnamed: 9</th>\n",
       "      <th>...</th>\n",
       "      <th>Unnamed: 15</th>\n",
       "      <th>Unnamed: 16</th>\n",
       "      <th>Unnamed: 17</th>\n",
       "      <th>Unnamed: 18</th>\n",
       "      <th>Unnamed: 19</th>\n",
       "      <th>Unnamed: 20</th>\n",
       "      <th>Unnamed: 21</th>\n",
       "      <th>Unnamed: 22</th>\n",
       "      <th>Unnamed: 23</th>\n",
       "      <th>Unnamed: 24</th>\n",
       "    </tr>\n",
       "  </thead>\n",
       "  <tbody>\n",
       "    <tr>\n",
       "      <th>0</th>\n",
       "      <td>Precio Bolsa Nacional ($/kWh) 1995</td>\n",
       "      <td>NaN</td>\n",
       "      <td>NaN</td>\n",
       "      <td>NaN</td>\n",
       "      <td>NaN</td>\n",
       "      <td>NaN</td>\n",
       "      <td>NaN</td>\n",
       "      <td>NaN</td>\n",
       "      <td>NaN</td>\n",
       "      <td>NaN</td>\n",
       "      <td>...</td>\n",
       "      <td>NaN</td>\n",
       "      <td>NaN</td>\n",
       "      <td>NaN</td>\n",
       "      <td>NaN</td>\n",
       "      <td>NaN</td>\n",
       "      <td>NaN</td>\n",
       "      <td>NaN</td>\n",
       "      <td>NaN</td>\n",
       "      <td>NaN</td>\n",
       "      <td>NaN</td>\n",
       "    </tr>\n",
       "    <tr>\n",
       "      <th>1</th>\n",
       "      <td>NaN</td>\n",
       "      <td>NaN</td>\n",
       "      <td>NaN</td>\n",
       "      <td>NaN</td>\n",
       "      <td>NaN</td>\n",
       "      <td>NaN</td>\n",
       "      <td>NaN</td>\n",
       "      <td>NaN</td>\n",
       "      <td>NaN</td>\n",
       "      <td>NaN</td>\n",
       "      <td>...</td>\n",
       "      <td>NaN</td>\n",
       "      <td>NaN</td>\n",
       "      <td>NaN</td>\n",
       "      <td>NaN</td>\n",
       "      <td>NaN</td>\n",
       "      <td>NaN</td>\n",
       "      <td>NaN</td>\n",
       "      <td>NaN</td>\n",
       "      <td>NaN</td>\n",
       "      <td>NaN</td>\n",
       "    </tr>\n",
       "    <tr>\n",
       "      <th>2</th>\n",
       "      <td>Fecha</td>\n",
       "      <td>0.000</td>\n",
       "      <td>1.000</td>\n",
       "      <td>2.000</td>\n",
       "      <td>3.000</td>\n",
       "      <td>4.000</td>\n",
       "      <td>5.000</td>\n",
       "      <td>6.000</td>\n",
       "      <td>7.000</td>\n",
       "      <td>8.000</td>\n",
       "      <td>...</td>\n",
       "      <td>14.000</td>\n",
       "      <td>15.000</td>\n",
       "      <td>16.000</td>\n",
       "      <td>17.000</td>\n",
       "      <td>18.000</td>\n",
       "      <td>19.000</td>\n",
       "      <td>20.000</td>\n",
       "      <td>21.000</td>\n",
       "      <td>22.000</td>\n",
       "      <td>23.000</td>\n",
       "    </tr>\n",
       "    <tr>\n",
       "      <th>3</th>\n",
       "      <td>1995-07-20</td>\n",
       "      <td>NaN</td>\n",
       "      <td>1.073</td>\n",
       "      <td>1.073</td>\n",
       "      <td>1.073</td>\n",
       "      <td>1.073</td>\n",
       "      <td>1.073</td>\n",
       "      <td>1.073</td>\n",
       "      <td>1.073</td>\n",
       "      <td>1.074</td>\n",
       "      <td>...</td>\n",
       "      <td>1.073</td>\n",
       "      <td>1.073</td>\n",
       "      <td>1.073</td>\n",
       "      <td>1.073</td>\n",
       "      <td>1.074</td>\n",
       "      <td>1.897</td>\n",
       "      <td>1.897</td>\n",
       "      <td>1.897</td>\n",
       "      <td>1.073</td>\n",
       "      <td>1.073</td>\n",
       "    </tr>\n",
       "    <tr>\n",
       "      <th>4</th>\n",
       "      <td>1995-07-21</td>\n",
       "      <td>1.073</td>\n",
       "      <td>1.000</td>\n",
       "      <td>1.000</td>\n",
       "      <td>1.000</td>\n",
       "      <td>1.000</td>\n",
       "      <td>1.000</td>\n",
       "      <td>5.000</td>\n",
       "      <td>6.000</td>\n",
       "      <td>6.000</td>\n",
       "      <td>...</td>\n",
       "      <td>5.000</td>\n",
       "      <td>1.000</td>\n",
       "      <td>1.000</td>\n",
       "      <td>5.000</td>\n",
       "      <td>12.000</td>\n",
       "      <td>16.670</td>\n",
       "      <td>11.929</td>\n",
       "      <td>5.000</td>\n",
       "      <td>1.000</td>\n",
       "      <td>1.000</td>\n",
       "    </tr>\n",
       "  </tbody>\n",
       "</table>\n",
       "<p>5 rows × 25 columns</p>\n",
       "</div>"
      ],
      "text/plain": [
       "                           Unnamed: 0  Unnamed: 1  Unnamed: 2  Unnamed: 3  \\\n",
       "0  Precio Bolsa Nacional ($/kWh) 1995         NaN         NaN         NaN   \n",
       "1                                 NaN         NaN         NaN         NaN   \n",
       "2                               Fecha       0.000       1.000       2.000   \n",
       "3                          1995-07-20         NaN       1.073       1.073   \n",
       "4                          1995-07-21       1.073       1.000       1.000   \n",
       "\n",
       "   Unnamed: 4  Unnamed: 5  Unnamed: 6  Unnamed: 7  Unnamed: 8  Unnamed: 9  \\\n",
       "0         NaN         NaN         NaN         NaN         NaN         NaN   \n",
       "1         NaN         NaN         NaN         NaN         NaN         NaN   \n",
       "2       3.000       4.000       5.000       6.000       7.000       8.000   \n",
       "3       1.073       1.073       1.073       1.073       1.073       1.074   \n",
       "4       1.000       1.000       1.000       5.000       6.000       6.000   \n",
       "\n",
       "   ...  Unnamed: 15  Unnamed: 16  Unnamed: 17  Unnamed: 18  Unnamed: 19  \\\n",
       "0  ...          NaN          NaN          NaN          NaN          NaN   \n",
       "1  ...          NaN          NaN          NaN          NaN          NaN   \n",
       "2  ...       14.000       15.000       16.000       17.000       18.000   \n",
       "3  ...        1.073        1.073        1.073        1.073        1.074   \n",
       "4  ...        5.000        1.000        1.000        5.000       12.000   \n",
       "\n",
       "   Unnamed: 20  Unnamed: 21  Unnamed: 22  Unnamed: 23  Unnamed: 24  \n",
       "0          NaN          NaN          NaN          NaN          NaN  \n",
       "1          NaN          NaN          NaN          NaN          NaN  \n",
       "2       19.000       20.000       21.000       22.000       23.000  \n",
       "3        1.897        1.897        1.897        1.073        1.073  \n",
       "4       16.670       11.929        5.000        1.000        1.000  \n",
       "\n",
       "[5 rows x 25 columns]"
      ]
     },
     "execution_count": 3,
     "metadata": {},
     "output_type": "execute_result"
    }
   ],
   "source": [
    "dfs['1995'].head()"
   ]
  },
  {
   "cell_type": "markdown",
   "metadata": {},
   "source": [
    "**Renombrar columnas, eliminar las primeras filas invalidas, eliminar filas duplicadas y calcular el promedio por día**"
   ]
  },
  {
   "cell_type": "code",
   "execution_count": 4,
   "metadata": {},
   "outputs": [],
   "source": [
    "def preprocessing_columnsname_duplicates(df_y, year):\n",
    "    df = df_y.copy()\n",
    "\n",
    "    # renombrar las columnas del dataframe\n",
    "    columns = np.squeeze(df.loc[df[df.columns[0]] == 'Fecha'].values)\n",
    "    lindex = int(df.loc[df[df.columns[0]] == 'Fecha'].index.values) + 1\n",
    "    df.columns = columns\n",
    "    # eliminar las filas primeras filas invalidas\n",
    "    df = df.drop(list(range(0, lindex)))\n",
    "    \n",
    "    # eliminar filas duplicadas\n",
    "    shp_old = df.shape[0]\n",
    "    df = df.drop_duplicates()\n",
    "    print(f'Dataframe {year}, Final shape: {df.shape}, duplicates: {shp_old - df.shape[0]}')\n",
    "\n",
    "    return df\n",
    "\n",
    "\n",
    "def generate_average_kWh(df_y):\n",
    "    # Calcular promedio de los kWh\n",
    "    df = pd.DataFrame()\n",
    "    df['Fecha'] = df_y['Fecha']\n",
    "    df['mean'] = df_y.mean(axis=1)\n",
    "    return df"
   ]
  },
  {
   "cell_type": "code",
   "execution_count": 5,
   "metadata": {
    "scrolled": true
   },
   "outputs": [
    {
     "name": "stdout",
     "output_type": "stream",
     "text": [
      "Dataframe 1995, Final shape: (165, 25), duplicates: 0\n",
      "Dataframe 1996, Final shape: (371, 25), duplicates: 7\n",
      "Dataframe 1997, Final shape: (365, 25), duplicates: 0\n",
      "Dataframe 1998, Final shape: (368, 25), duplicates: 19\n",
      "Dataframe 1999, Final shape: (367, 25), duplicates: 7\n",
      "Dataframe 2000, Final shape: (366, 26), duplicates: 0\n",
      "Dataframe 2001, Final shape: (365, 25), duplicates: 0\n",
      "Dataframe 2002, Final shape: (365, 25), duplicates: 0\n",
      "Dataframe 2003, Final shape: (365, 25), duplicates: 0\n",
      "Dataframe 2004, Final shape: (366, 25), duplicates: 0\n",
      "Dataframe 2005, Final shape: (365, 26), duplicates: 0\n",
      "Dataframe 2006, Final shape: (365, 25), duplicates: 0\n",
      "Dataframe 2007, Final shape: (368, 25), duplicates: 11\n",
      "Dataframe 2008, Final shape: (366, 25), duplicates: 0\n",
      "Dataframe 2009, Final shape: (367, 25), duplicates: 15\n",
      "Dataframe 2010, Final shape: (365, 26), duplicates: 0\n",
      "Dataframe 2011, Final shape: (367, 27), duplicates: 2\n",
      "Dataframe 2012, Final shape: (367, 27), duplicates: 0\n",
      "Dataframe 2013, Final shape: (367, 27), duplicates: 0\n",
      "Dataframe 2014, Final shape: (367, 27), duplicates: 0\n",
      "Dataframe 2015, Final shape: (365, 26), duplicates: 0\n",
      "Dataframe 2016, Final shape: (366, 26), duplicates: 0\n",
      "Dataframe 2017, Final shape: (365, 26), duplicates: 0\n",
      "Dataframe 2018, Final shape: (125, 26), duplicates: 0\n"
     ]
    }
   ],
   "source": [
    "for year in range(1995, 2019):\n",
    "    year = str(year)\n",
    "    dfs[year] = preprocessing_columnsname_duplicates(dfs[year], year)\n",
    "    dfs[year] = generate_average_kWh(dfs[year])"
   ]
  },
  {
   "cell_type": "markdown",
   "metadata": {},
   "source": [
    "**Concatenar los años y eliminar filas na**"
   ]
  },
  {
   "cell_type": "code",
   "execution_count": 6,
   "metadata": {},
   "outputs": [
    {
     "name": "stdout",
     "output_type": "stream",
     "text": [
      "(8348, 2)\n",
      "(8341, 2)\n"
     ]
    },
    {
     "data": {
      "text/html": [
       "<div>\n",
       "<style scoped>\n",
       "    .dataframe tbody tr th:only-of-type {\n",
       "        vertical-align: middle;\n",
       "    }\n",
       "\n",
       "    .dataframe tbody tr th {\n",
       "        vertical-align: top;\n",
       "    }\n",
       "\n",
       "    .dataframe thead th {\n",
       "        text-align: right;\n",
       "    }\n",
       "</style>\n",
       "<table border=\"1\" class=\"dataframe\">\n",
       "  <thead>\n",
       "    <tr style=\"text-align: right;\">\n",
       "      <th></th>\n",
       "      <th>Fecha</th>\n",
       "      <th>mean</th>\n",
       "    </tr>\n",
       "  </thead>\n",
       "  <tbody>\n",
       "    <tr>\n",
       "      <th>3</th>\n",
       "      <td>1995-07-20</td>\n",
       "      <td>1.409435</td>\n",
       "    </tr>\n",
       "    <tr>\n",
       "      <th>4</th>\n",
       "      <td>1995-07-21</td>\n",
       "      <td>4.924333</td>\n",
       "    </tr>\n",
       "    <tr>\n",
       "      <th>5</th>\n",
       "      <td>1995-07-22</td>\n",
       "      <td>1.269500</td>\n",
       "    </tr>\n",
       "    <tr>\n",
       "      <th>6</th>\n",
       "      <td>1995-07-23</td>\n",
       "      <td>0.953083</td>\n",
       "    </tr>\n",
       "    <tr>\n",
       "      <th>7</th>\n",
       "      <td>1995-07-24</td>\n",
       "      <td>4.305917</td>\n",
       "    </tr>\n",
       "  </tbody>\n",
       "</table>\n",
       "</div>"
      ],
      "text/plain": [
       "        Fecha      mean\n",
       "3  1995-07-20  1.409435\n",
       "4  1995-07-21  4.924333\n",
       "5  1995-07-22  1.269500\n",
       "6  1995-07-23  0.953083\n",
       "7  1995-07-24  4.305917"
      ]
     },
     "execution_count": 6,
     "metadata": {},
     "output_type": "execute_result"
    }
   ],
   "source": [
    "years = sorted(list(dfs))\n",
    "df_concatenated = pd.concat([dfs[y] for y in years], axis=0)\n",
    "\n",
    "print(df_concatenated.shape)\n",
    "df_concatenated = df_concatenated.dropna()\n",
    "print(df_concatenated.shape)\n",
    "df_concatenated.head()"
   ]
  },
  {
   "cell_type": "markdown",
   "metadata": {},
   "source": [
    "**Gráfica kWh promedio desde el año 1995 al 2018**"
   ]
  },
  {
   "cell_type": "code",
   "execution_count": 7,
   "metadata": {},
   "outputs": [
    {
     "data": {
      "image/png": "[encoded data removed]",
      "text/plain": [
       "<Figure size 1152x360 with 1 Axes>"
      ]
     },
     "metadata": {
      "needs_background": "light"
     },
     "output_type": "display_data"
    }
   ],
   "source": [
    "plt.figure(figsize=(16,5))\n",
    "plt.title('Precio_Bolsa_Nacional_($kwh)')\n",
    "plt.xlabel('Días')\n",
    "plt.ylabel('kWh')\n",
    "plt.plot(df_concatenated['mean'].values, color='black');"
   ]
  },
  {
   "cell_type": "markdown",
   "metadata": {},
   "source": [
    "## Transformación Box-Cox"
   ]
  },
  {
   "cell_type": "code",
   "execution_count": 8,
   "metadata": {},
   "outputs": [],
   "source": [
    "from sklearn.preprocessing import PowerTransformer"
   ]
  },
  {
   "cell_type": "code",
   "execution_count": 9,
   "metadata": {},
   "outputs": [
    {
     "data": {
      "image/png": "[encoded data removed]",
      "text/plain": [
       "<Figure size 1152x360 with 1 Axes>"
      ]
     },
     "metadata": {
      "needs_background": "light"
     },
     "output_type": "display_data"
    }
   ],
   "source": [
    "boxcox = PowerTransformer(method='box-cox')\n",
    "df_transformed = boxcox.fit_transform(df_concatenated['mean'].values.reshape(-1, 1))\n",
    "\n",
    "plt.figure(figsize=(16,5))\n",
    "plt.title('Precio_Bolsa_Nacional_($kwh)')\n",
    "plt.xlabel('Días')\n",
    "plt.ylabel('kWh')\n",
    "plt.plot(\n",
    "    df_transformed,\n",
    "    color='black'\n",
    ");"
   ]
  }
 ],
 "metadata": {
  "kernelspec": {
   "display_name": "Python 3",
   "language": "python",
   "name": "python3"
  },
  "language_info": {
   "codemirror_mode": {
    "name": "ipython",
    "version": 3
   },
   "file_extension": ".py",
   "mimetype": "text/x-python",
   "name": "python",
   "nbconvert_exporter": "python",
   "pygments_lexer": "ipython3",
   "version": "3.6.7"
  }
 },
 "nbformat": 4,
 "nbformat_minor": 2
}
