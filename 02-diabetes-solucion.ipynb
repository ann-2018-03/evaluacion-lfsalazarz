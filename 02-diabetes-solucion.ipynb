{
 "cells": [
  {
   "cell_type": "markdown",
   "metadata": {
    "colab_type": "text",
    "id": "Me0YhgpvkwB1"
   },
   "source": [
    "En este caso, se desea comparar los resultados de un modelo de regresión lineal y un modelo de redes neuronales artificiales.\n",
    "\n",
    "\n",
    "Usted debe:\n",
    "\n",
    "* Determinar cuáles de las variables consideradas son relevantes para el problema.\n",
    "\n",
    "\n",
    "* Determinar si hay alguna transformación de las variables de entrada o de salida que mejore el pronóstico del modelo.\n",
    "\n",
    "\n",
    "* Construir un modelo de regresión lineal que sirva como base para construir un modelo de redes neuronales artificiales.\n",
    "\n",
    "\n",
    "\n",
    "* Construir un modelo de redes neuronales artificiales. Asimismo, debe determinar el número de neuronas en la capa o capas ocultas.\n",
    "\n",
    "\n",
    "* Utiizar una técnica como crossvalidation u otra similar para establecer la robustez del modelo."
   ]
  },
  {
   "cell_type": "markdown",
   "metadata": {},
   "source": [
    "# TOC\n",
    "\n",
    "1. *[Lectura del conjunto de datos](#datos)*  \n",
    "2. *[Modelos base](#base)*  \n",
    "2.1. *[Promedio](#promedio)*  \n",
    "2.2. *[Regresión lineal base](#rlb)*  \n",
    "3. *[Transformación y selección de características](#tsc)*  \n",
    "3.1. *[Transformación variables de entrada](#tvi)*  \n",
    "3.2. *[Transformación de la variable de salida](#tvo)*  \n",
    "3.3. *[Selección de características](#sc)*  \n",
    "4. *[Redes neuronales](#ann)*  \n",
    "4.1. *[Búsqueda de párametros óptimos](#gs)*"
   ]
  },
  {
   "cell_type": "code",
   "execution_count": 2,
   "metadata": {
    "colab": {
     "base_uri": "https://localhost:8080/",
     "height": 122
    },
    "colab_type": "code",
    "executionInfo": {
     "elapsed": 43398,
     "status": "ok",
     "timestamp": 1554845050285,
     "user": {
      "displayName": "Luis Felipe Salazar Zapata",
      "photoUrl": "",
      "userId": "06741032237353558385"
     },
     "user_tz": 300
    },
    "id": "qBSq3Gk0k2_e",
    "outputId": "41bfdd45-7e2e-4454-c2a0-345b3ca305de",
    "scrolled": true
   },
   "outputs": [
    {
     "name": "stdout",
     "output_type": "stream",
     "text": [
      "Go to this URL in a browser: https://accounts.google.com/o/oauth2/auth?client_id=947318989803-6bn6qk8qdgf4n4g3pfee6491hc0brc4i.apps.googleusercontent.com&redirect_uri=urn%3Aietf%3Awg%3Aoauth%3A2.0%3Aoob&scope=email%20https%3A%2F%2Fwww.googleapis.com%2Fauth%2Fdocs.test%20https%3A%2F%2Fwww.googleapis.com%2Fauth%2Fdrive%20https%3A%2F%2Fwww.googleapis.com%2Fauth%2Fdrive.photos.readonly%20https%3A%2F%2Fwww.googleapis.com%2Fauth%2Fpeopleapi.readonly&response_type=code\n",
      "\n",
      "Enter your authorization code:\n",
      "··········\n",
      "Mounted at /content/drive/\n"
     ]
    }
   ],
   "source": [
    "def set_filesystem():\n",
    "    try:\n",
    "        from google.colab import drive\n",
    "        from os import chdir\n",
    "    \n",
    "        drive.mount('/content/drive/', force_remount=True)\n",
    "        chdir(\"/content/drive/My Drive/evaluacion-lfsalazarz\")\n",
    "    except Exception as e:\n",
    "        print(e)\n",
    "    \n",
    "set_filesystem()"
   ]
  },
  {
   "cell_type": "code",
   "execution_count": 1,
   "metadata": {
    "colab": {},
    "colab_type": "code",
    "id": "CZWG0ECmkwB3"
   },
   "outputs": [],
   "source": [
    "import numpy as np\n",
    "import pandas as pd\n",
    "import matplotlib.pyplot as plt\n",
    "\n",
    "from sklearn.linear_model import LinearRegression\n",
    "from sklearn.linear_model import Ridge\n",
    "from sklearn.linear_model import RidgeCV\n",
    "from sklearn.linear_model import Lasso\n",
    "from sklearn.linear_model import LassoCV\n",
    "from sklearn.model_selection import cross_val_score\n",
    "from sklearn.model_selection import KFold\n",
    "from sklearn.model_selection import train_test_split\n",
    "from sklearn.model_selection import GridSearchCV\n",
    "from sklearn.metrics import make_scorer\n",
    "from sklearn.metrics import mean_squared_error\n",
    "from sklearn.metrics import median_absolute_error\n",
    "from sklearn.metrics import r2_score\n",
    "from sklearn.compose import TransformedTargetRegressor\n",
    "\n",
    "%matplotlib inline"
   ]
  },
  {
   "cell_type": "markdown",
   "metadata": {},
   "source": [
    "Funciones para graficas de desempeño"
   ]
  },
  {
   "cell_type": "code",
   "execution_count": 3,
   "metadata": {
    "colab": {},
    "colab_type": "code",
    "id": "DHRS3CDhn7B4"
   },
   "outputs": [],
   "source": [
    "def evaluate_model_crossval(model, X, y, cv=5, seed=12345):\n",
    "    kfold = KFold(n_splits=5, random_state=seed)\n",
    "    scores = cross_val_score(model, X, y, cv=kfold)\n",
    "    print(f'Cross-val score R2: {scores.mean():0.2f} (+/- {(scores.std() * 2):0.2f})')\n",
    "    \n",
    "    \n",
    "def evaluate_model(model, X, y, di=0, df=350):\n",
    "    y_pred = model.predict(X)    \n",
    "    diag = np.linspace(di, df, 100)\n",
    "    plt.figure(figsize=(7,7))\n",
    "    plt.title(f'MSE: {mean_squared_error(y, y_pred):.2f}, R2: {r2_score(y, y_pred):.2f}')\n",
    "    plt.xlabel('y')\n",
    "    plt.ylabel('y_pred')\n",
    "    plt.plot(y, y_pred, 'o', markersize=3)\n",
    "    plt.plot(diag, diag);\n",
    "    plt.show();\n",
    "    \n",
    "\n",
    "def plot_mse(history):\n",
    "    plt.plot(history.history['mean_absolute_error']) # mean_absolute_error, mean_squared_error\n",
    "    plt.plot(history.history['val_mean_absolute_error']) # val_mean_absolute_error, val_mean_squared_error\n",
    "    plt.title('model MSE')\n",
    "    plt.ylabel('MSE')\n",
    "    plt.xlabel('epoch')\n",
    "    plt.legend(['training', 'validation'], loc='upper right')\n",
    "    plt.show()\n",
    "\n",
    "\n",
    "def plot_loss(history):\n",
    "    plt.plot(history.history['loss'])\n",
    "    plt.plot(history.history['val_loss'])\n",
    "    plt.title('model loss')\n",
    "    plt.ylabel('loss')\n",
    "    plt.xlabel('epoch')\n",
    "    plt.legend(['training', 'validation'], loc='upper right')\n",
    "    plt.show()"
   ]
  },
  {
   "cell_type": "markdown",
   "metadata": {
    "colab_type": "text",
    "id": "iixR_b5rkwB8"
   },
   "source": [
    "# 1. Lectura del conjunto de datos <a class=\"anchor\" id=\"datos\"></a>"
   ]
  },
  {
   "cell_type": "code",
   "execution_count": 2,
   "metadata": {
    "colab": {
     "base_uri": "https://localhost:8080/",
     "height": 221
    },
    "colab_type": "code",
    "executionInfo": {
     "elapsed": 543,
     "status": "ok",
     "timestamp": 1554577518533,
     "user": {
      "displayName": "Luis Felipe Salazar Zapata",
      "photoUrl": "",
      "userId": "06741032237353558385"
     },
     "user_tz": 300
    },
    "id": "s7o1VH4HkwB-",
    "outputId": "582c7f0b-2fd2-4fcc-c6e7-886e0f8a90a1"
   },
   "outputs": [
    {
     "name": "stdout",
     "output_type": "stream",
     "text": [
      "Muestras: 442 Características: 10\n"
     ]
    },
    {
     "data": {
      "text/html": [
       "<div>\n",
       "<style scoped>\n",
       "    .dataframe tbody tr th:only-of-type {\n",
       "        vertical-align: middle;\n",
       "    }\n",
       "\n",
       "    .dataframe tbody tr th {\n",
       "        vertical-align: top;\n",
       "    }\n",
       "\n",
       "    .dataframe thead th {\n",
       "        text-align: right;\n",
       "    }\n",
       "</style>\n",
       "<table border=\"1\" class=\"dataframe\">\n",
       "  <thead>\n",
       "    <tr style=\"text-align: right;\">\n",
       "      <th></th>\n",
       "      <th>age</th>\n",
       "      <th>sex</th>\n",
       "      <th>bmi</th>\n",
       "      <th>bp</th>\n",
       "      <th>s1</th>\n",
       "      <th>s2</th>\n",
       "      <th>s3</th>\n",
       "      <th>s4</th>\n",
       "      <th>s5</th>\n",
       "      <th>s6</th>\n",
       "      <th>Y</th>\n",
       "    </tr>\n",
       "  </thead>\n",
       "  <tbody>\n",
       "    <tr>\n",
       "      <th>0</th>\n",
       "      <td>0.038076</td>\n",
       "      <td>0.050680</td>\n",
       "      <td>0.061696</td>\n",
       "      <td>0.021872</td>\n",
       "      <td>-0.044223</td>\n",
       "      <td>-0.034821</td>\n",
       "      <td>-0.043401</td>\n",
       "      <td>-0.002592</td>\n",
       "      <td>0.019908</td>\n",
       "      <td>-0.017646</td>\n",
       "      <td>151.0</td>\n",
       "    </tr>\n",
       "    <tr>\n",
       "      <th>1</th>\n",
       "      <td>-0.001882</td>\n",
       "      <td>-0.044642</td>\n",
       "      <td>-0.051474</td>\n",
       "      <td>-0.026328</td>\n",
       "      <td>-0.008449</td>\n",
       "      <td>-0.019163</td>\n",
       "      <td>0.074412</td>\n",
       "      <td>-0.039493</td>\n",
       "      <td>-0.068330</td>\n",
       "      <td>-0.092204</td>\n",
       "      <td>75.0</td>\n",
       "    </tr>\n",
       "    <tr>\n",
       "      <th>2</th>\n",
       "      <td>0.085299</td>\n",
       "      <td>0.050680</td>\n",
       "      <td>0.044451</td>\n",
       "      <td>-0.005671</td>\n",
       "      <td>-0.045599</td>\n",
       "      <td>-0.034194</td>\n",
       "      <td>-0.032356</td>\n",
       "      <td>-0.002592</td>\n",
       "      <td>0.002864</td>\n",
       "      <td>-0.025930</td>\n",
       "      <td>141.0</td>\n",
       "    </tr>\n",
       "    <tr>\n",
       "      <th>3</th>\n",
       "      <td>-0.089063</td>\n",
       "      <td>-0.044642</td>\n",
       "      <td>-0.011595</td>\n",
       "      <td>-0.036656</td>\n",
       "      <td>0.012191</td>\n",
       "      <td>0.024991</td>\n",
       "      <td>-0.036038</td>\n",
       "      <td>0.034309</td>\n",
       "      <td>0.022692</td>\n",
       "      <td>-0.009362</td>\n",
       "      <td>206.0</td>\n",
       "    </tr>\n",
       "    <tr>\n",
       "      <th>4</th>\n",
       "      <td>0.005383</td>\n",
       "      <td>-0.044642</td>\n",
       "      <td>-0.036385</td>\n",
       "      <td>0.021872</td>\n",
       "      <td>0.003935</td>\n",
       "      <td>0.015596</td>\n",
       "      <td>0.008142</td>\n",
       "      <td>-0.002592</td>\n",
       "      <td>-0.031991</td>\n",
       "      <td>-0.046641</td>\n",
       "      <td>135.0</td>\n",
       "    </tr>\n",
       "  </tbody>\n",
       "</table>\n",
       "</div>"
      ],
      "text/plain": [
       "        age       sex       bmi        bp        s1        s2        s3  \\\n",
       "0  0.038076  0.050680  0.061696  0.021872 -0.044223 -0.034821 -0.043401   \n",
       "1 -0.001882 -0.044642 -0.051474 -0.026328 -0.008449 -0.019163  0.074412   \n",
       "2  0.085299  0.050680  0.044451 -0.005671 -0.045599 -0.034194 -0.032356   \n",
       "3 -0.089063 -0.044642 -0.011595 -0.036656  0.012191  0.024991 -0.036038   \n",
       "4  0.005383 -0.044642 -0.036385  0.021872  0.003935  0.015596  0.008142   \n",
       "\n",
       "         s4        s5        s6      Y  \n",
       "0 -0.002592  0.019908 -0.017646  151.0  \n",
       "1 -0.039493 -0.068330 -0.092204   75.0  \n",
       "2 -0.002592  0.002864 -0.025930  141.0  \n",
       "3  0.034309  0.022692 -0.009362  206.0  \n",
       "4 -0.002592 -0.031991 -0.046641  135.0  "
      ]
     },
     "execution_count": 2,
     "metadata": {},
     "output_type": "execute_result"
    }
   ],
   "source": [
    "df = pd.read_csv('datos/diabetes.csv')\n",
    "print(f'Muestras: {df.shape[0]} Características: {df.shape[1] - 1}')\n",
    "\n",
    "X = df.drop(['Y'], axis=1)\n",
    "y = df['Y']\n",
    "\n",
    "df.head()"
   ]
  },
  {
   "cell_type": "markdown",
   "metadata": {
    "colab_type": "text",
    "id": "PR76JznHntvL"
   },
   "source": [
    "# 2. Modelos base <a class=\"anchor\" id=\"base\"></a>"
   ]
  },
  {
   "cell_type": "markdown",
   "metadata": {
    "colab_type": "text",
    "id": "dDRtVCJZ-vR4"
   },
   "source": [
    "## 2.1. Promedio <a class=\"anchor\" id=\"promedio\"></a>"
   ]
  },
  {
   "cell_type": "code",
   "execution_count": 4,
   "metadata": {
    "colab": {},
    "colab_type": "code",
    "id": "ld4XPtti-vR5",
    "outputId": "edc4e9b2-31eb-441a-f491-69928f39e352",
    "scrolled": true
   },
   "outputs": [
    {
     "data": {
      "image/png": "[encoded data removed]",
      "text/plain": [
       "<Figure size 432x288 with 1 Axes>"
      ]
     },
     "metadata": {
      "needs_background": "light"
     },
     "output_type": "display_data"
    }
   ],
   "source": [
    "y_naive = y.mean()\n",
    "y_naive_v = np.repeat(y_naive, len(y))\n",
    "mse = mean_squared_error(y, y_naive_v)\n",
    "plt.title(f'y_mean: {y_naive:.2f}, MSE: {mse:.2f}')\n",
    "plt.plot(y, y_naive_v);"
   ]
  },
  {
   "cell_type": "markdown",
   "metadata": {
    "colab_type": "text",
    "id": "wZdXk8gm-vR8"
   },
   "source": [
    "## 2.2. Regresión lineal base <a class=\"anchor\" id=\"rlb\"></a>"
   ]
  },
  {
   "cell_type": "code",
   "execution_count": 5,
   "metadata": {
    "colab": {
     "base_uri": "https://localhost:8080/",
     "height": 508
    },
    "colab_type": "code",
    "executionInfo": {
     "elapsed": 1100,
     "status": "ok",
     "timestamp": 1554570611216,
     "user": {
      "displayName": "Luis Felipe Salazar Zapata",
      "photoUrl": "",
      "userId": "06741032237353558385"
     },
     "user_tz": 300
    },
    "id": "XrYumBQukwCG",
    "outputId": "ad9c806b-4650-4f13-9f72-d74205de3c49",
    "scrolled": false
   },
   "outputs": [
    {
     "name": "stdout",
     "output_type": "stream",
     "text": [
      "Cross-val score R2: 0.48 (+/- 0.10)\n"
     ]
    },
    {
     "data": {
      "image/png": "[encoded data removed]",
      "text/plain": [
       "<Figure size 504x504 with 1 Axes>"
      ]
     },
     "metadata": {
      "needs_background": "light"
     },
     "output_type": "display_data"
    }
   ],
   "source": [
    "lr = LinearRegression()\n",
    "lr.fit(X, y)\n",
    "evaluate_model_crossval(lr, X, y)\n",
    "evaluate_model(lr, X, y)"
   ]
  },
  {
   "cell_type": "markdown",
   "metadata": {
    "colab_type": "text",
    "id": "iCLGPWDw-vR_"
   },
   "source": [
    "Ridge regression"
   ]
  },
  {
   "cell_type": "code",
   "execution_count": 6,
   "metadata": {
    "colab": {},
    "colab_type": "code",
    "id": "cPq3uRDJ-vR_",
    "outputId": "882b8cfa-a450-4735-a70e-c906588296c1",
    "scrolled": false
   },
   "outputs": [
    {
     "name": "stdout",
     "output_type": "stream",
     "text": [
      "Cross-val score R2: 0.41 (+/- 0.09)\n"
     ]
    },
    {
     "data": {
      "image/png": "[encoded data removed]",
      "text/plain": [
       "<Figure size 504x504 with 1 Axes>"
      ]
     },
     "metadata": {
      "needs_background": "light"
     },
     "output_type": "display_data"
    }
   ],
   "source": [
    "lr = Ridge(alpha=1.0)\n",
    "lr.fit(X, y)\n",
    "evaluate_model_crossval(lr, X, y)\n",
    "evaluate_model(lr, X, y)"
   ]
  },
  {
   "cell_type": "markdown",
   "metadata": {
    "colab_type": "text",
    "id": "KY6pkFSZ-vSF"
   },
   "source": [
    "# 3. Transformación y selección de características <a class=\"anchor\" id=\"tsc\"></a>"
   ]
  },
  {
   "cell_type": "markdown",
   "metadata": {},
   "source": [
    "### 3.1. Transformación variables de entrada <a class=\"anchor\" id=\"tvi\"></a>\n",
    "\n",
    "Se aplica la transformación **_PolynomialFeatures_**, la cual genera una nueva matriz que consiste en todas las combinaciones de los polinomios de un grado menor o igual al especificado, por ejemplo, si la entrada es de la forma \\[a, b\\], la matriz resultante de grado 2 es \\[1, a, b, a^2, ab, b^2\\]."
   ]
  },
  {
   "cell_type": "code",
   "execution_count": 7,
   "metadata": {},
   "outputs": [],
   "source": [
    "from sklearn.preprocessing import PolynomialFeatures"
   ]
  },
  {
   "cell_type": "code",
   "execution_count": 8,
   "metadata": {},
   "outputs": [
    {
     "data": {
      "text/plain": [
       "(442, 65)"
      ]
     },
     "execution_count": 8,
     "metadata": {},
     "output_type": "execute_result"
    }
   ],
   "source": [
    "poly = PolynomialFeatures(degree=2)\n",
    "poly_variables = poly.fit_transform(X)\n",
    "\n",
    "# Se obtiene los nombres de las columnas de la nueva matriz\n",
    "colnames = np.array(poly.get_feature_names(X.columns)[1:])\n",
    "\n",
    "# Se elimina la columna de unos\n",
    "poly_variables = poly_variables[:,1:]\n",
    "poly_variables.shape"
   ]
  },
  {
   "cell_type": "code",
   "execution_count": 9,
   "metadata": {
    "scrolled": true
   },
   "outputs": [
    {
     "data": {
      "text/plain": [
       "array(['age', 'sex', 'bmi', 'bp', 's1', 's2', 's3', 's4', 's5', 's6',\n",
       "       'age^2', 'age sex', 'age bmi', 'age bp', 'age s1', 'age s2',\n",
       "       'age s3', 'age s4', 'age s5', 'age s6', 'sex^2', 'sex bmi',\n",
       "       'sex bp', 'sex s1', 'sex s2', 'sex s3', 'sex s4', 'sex s5',\n",
       "       'sex s6', 'bmi^2', 'bmi bp', 'bmi s1', 'bmi s2', 'bmi s3',\n",
       "       'bmi s4', 'bmi s5', 'bmi s6', 'bp^2', 'bp s1', 'bp s2', 'bp s3',\n",
       "       'bp s4', 'bp s5', 'bp s6', 's1^2', 's1 s2', 's1 s3', 's1 s4',\n",
       "       's1 s5', 's1 s6', 's2^2', 's2 s3', 's2 s4', 's2 s5', 's2 s6',\n",
       "       's3^2', 's3 s4', 's3 s5', 's3 s6', 's4^2', 's4 s5', 's4 s6',\n",
       "       's5^2', 's5 s6', 's6^2'], dtype='<U7')"
      ]
     },
     "execution_count": 9,
     "metadata": {},
     "output_type": "execute_result"
    }
   ],
   "source": [
    "colnames"
   ]
  },
  {
   "cell_type": "markdown",
   "metadata": {
    "colab": {},
    "colab_type": "code",
    "id": "TETeuVCJ-vSH"
   },
   "source": [
    "### 3.2. Transformación de la variable de salida <a class=\"anchor\" id=\"tvo\"></a>"
   ]
  },
  {
   "cell_type": "code",
   "execution_count": 10,
   "metadata": {},
   "outputs": [],
   "source": [
    "from sklearn.preprocessing import MinMaxScaler"
   ]
  },
  {
   "cell_type": "code",
   "execution_count": 11,
   "metadata": {},
   "outputs": [],
   "source": [
    "#scaler = MinMaxScaler()\n",
    "#y_scale = scaler.fit_transform(y.values.reshape(-1, 1))\n",
    "#y_scale = y_scale.reshape(-1)\n",
    "\n",
    "y_log1p = np.log1p(y)"
   ]
  },
  {
   "cell_type": "markdown",
   "metadata": {},
   "source": [
    "### 3.3. Selección de características <a class=\"anchor\" id=\"sc\"></a>"
   ]
  },
  {
   "cell_type": "code",
   "execution_count": 12,
   "metadata": {},
   "outputs": [],
   "source": [
    "from sklearn.feature_selection import SelectKBest\n",
    "from sklearn.feature_selection import f_regression"
   ]
  },
  {
   "cell_type": "code",
   "execution_count": 13,
   "metadata": {
    "scrolled": true
   },
   "outputs": [
    {
     "name": "stdout",
     "output_type": "stream",
     "text": [
      "['age' 'bmi' 'bp' 's1' 's2' 's3' 's4' 's5' 's6' 'age s2' 'bmi^2' 'bmi bp'\n",
      " 'bmi s2' 'bmi s6' 'bp^2' 's2 s5' 's3^2' 's4^2' 's4 s6' 's6^2']\n"
     ]
    }
   ],
   "source": [
    "# Mejores 20 características\n",
    "selector = SelectKBest(score_func=f_regression, k=20)\n",
    "X_new = selector.fit_transform(poly_variables, y_log1p)\n",
    "\n",
    "print(colnames[selector.get_support()])"
   ]
  },
  {
   "cell_type": "markdown",
   "metadata": {},
   "source": [
    "**Separar el conjunto de datos**"
   ]
  },
  {
   "cell_type": "code",
   "execution_count": 14,
   "metadata": {},
   "outputs": [],
   "source": [
    "X_train, X_test, y_train, y_test = train_test_split(X_new, y_log1p, test_size=0.35, random_state=12345)"
   ]
  },
  {
   "cell_type": "code",
   "execution_count": 15,
   "metadata": {},
   "outputs": [
    {
     "name": "stdout",
     "output_type": "stream",
     "text": [
      "X_train (287, 20)\n",
      "X_test (155, 20)\n"
     ]
    }
   ],
   "source": [
    "print('X_train', X_train.shape)\n",
    "print('X_test', X_test.shape)"
   ]
  },
  {
   "cell_type": "markdown",
   "metadata": {
    "colab_type": "text",
    "id": "6hTN3RZl-vSz"
   },
   "source": [
    "# 4. Redes neuronales <a class=\"anchor\" id=\"ann\"></a>"
   ]
  },
  {
   "cell_type": "code",
   "execution_count": 16,
   "metadata": {
    "colab": {},
    "colab_type": "code",
    "id": "oHQHPEUT-vSz",
    "outputId": "3d80af3c-f65a-49bd-beb3-96b96af4c9df"
   },
   "outputs": [],
   "source": [
    "from tensorflow.keras import Sequential\n",
    "from tensorflow.keras.layers import Dense\n",
    "from tensorflow.keras.wrappers.scikit_learn import KerasRegressor"
   ]
  },
  {
   "cell_type": "code",
   "execution_count": 17,
   "metadata": {
    "colab": {},
    "colab_type": "code",
    "id": "NAaJRM7C-vS1"
   },
   "outputs": [],
   "source": [
    "def build_regressor():    \n",
    "    model = Sequential()    \n",
    "    \n",
    "    model.add(Dense(units=8, activation='relu', input_shape=(20,)))\n",
    "    model.add(Dense(units=32, activation='relu'))\n",
    "    model.add(Dense(units=1, activation='linear'))\n",
    "    \n",
    "    model.compile(loss='mse', optimizer='adam', metrics=['mse','mae'])\n",
    "    \n",
    "    return model"
   ]
  },
  {
   "cell_type": "code",
   "execution_count": 18,
   "metadata": {
    "colab": {},
    "colab_type": "code",
    "id": "jbEGQLGP-vS3",
    "outputId": "7ebff47b-0f04-41f7-f8f9-7d25acee7f8f",
    "scrolled": false
   },
   "outputs": [
    {
     "name": "stdout",
     "output_type": "stream",
     "text": [
      "_________________________________________________________________\n",
      "Layer (type)                 Output Shape              Param #   \n",
      "=================================================================\n",
      "dense (Dense)                (None, 8)                 168       \n",
      "_________________________________________________________________\n",
      "dense_1 (Dense)              (None, 32)                288       \n",
      "_________________________________________________________________\n",
      "dense_2 (Dense)              (None, 1)                 33        \n",
      "=================================================================\n",
      "Total params: 489\n",
      "Trainable params: 489\n",
      "Non-trainable params: 0\n",
      "_________________________________________________________________\n"
     ]
    }
   ],
   "source": [
    "model = build_regressor()\n",
    "model.summary()"
   ]
  },
  {
   "cell_type": "code",
   "execution_count": 19,
   "metadata": {},
   "outputs": [],
   "source": [
    "history = model.fit(X_train, y_train, epochs=100, validation_data=(X_test, y_test), verbose=0)"
   ]
  },
  {
   "cell_type": "code",
   "execution_count": 20,
   "metadata": {},
   "outputs": [
    {
     "data": {
      "image/png": "[encoded data removed]",
      "text/plain": [
       "<Figure size 432x288 with 1 Axes>"
      ]
     },
     "metadata": {
      "needs_background": "light"
     },
     "output_type": "display_data"
    }
   ],
   "source": [
    "plot_mse(history)"
   ]
  },
  {
   "cell_type": "code",
   "execution_count": 21,
   "metadata": {
    "scrolled": false
   },
   "outputs": [
    {
     "data": {
      "image/png": "[encoded data removed]",
      "text/plain": [
       "<Figure size 432x288 with 1 Axes>"
      ]
     },
     "metadata": {
      "needs_background": "light"
     },
     "output_type": "display_data"
    }
   ],
   "source": [
    "plot_loss(history)"
   ]
  },
  {
   "cell_type": "markdown",
   "metadata": {},
   "source": [
    "**Validación cruzada**"
   ]
  },
  {
   "cell_type": "code",
   "execution_count": 22,
   "metadata": {},
   "outputs": [],
   "source": [
    "seed = 12345\n",
    "np.random.seed(seed)\n",
    "kfold = KFold(n_splits=3, random_state=seed)\n",
    "estimator = KerasRegressor(build_fn=build_regressor, epochs=100, verbose=0)\n",
    "results_cv = cross_val_score(estimator, X_new, y_log1p, cv=kfold, scoring='neg_mean_squared_error')"
   ]
  },
  {
   "cell_type": "code",
   "execution_count": 23,
   "metadata": {},
   "outputs": [
    {
     "name": "stdout",
     "output_type": "stream",
     "text": [
      "MSE: 0.17 +/- 0.02\n"
     ]
    }
   ],
   "source": [
    "print(f'MSE: {np.abs(results_cv.mean()):.2f} +/- {results_cv.std() * 2:.2f}')"
   ]
  },
  {
   "cell_type": "markdown",
   "metadata": {},
   "source": [
    "### 4.1 Búsqueda de párametros óptimos <a class=\"anchor\" id=\"gs\"></a>"
   ]
  },
  {
   "cell_type": "code",
   "execution_count": 25,
   "metadata": {},
   "outputs": [],
   "source": [
    "def build_regressor(n1, n2):    \n",
    "    model = Sequential()    \n",
    "    \n",
    "    model.add(Dense(units=n1, activation='relu', input_shape=(20,)))\n",
    "    model.add(Dense(units=n2, activation='relu'))\n",
    "    model.add(Dense(units=1, activation='linear'))\n",
    "    \n",
    "    model.compile(loss='mse', optimizer='adam', metrics=['mse','mae'])\n",
    "    \n",
    "    return model"
   ]
  },
  {
   "cell_type": "code",
   "execution_count": 26,
   "metadata": {},
   "outputs": [
    {
     "name": "stderr",
     "output_type": "stream",
     "text": [
      "/home/lfsz/anaconda3/lib/python3.6/site-packages/sklearn/model_selection/_search.py:841: DeprecationWarning: The default of the `iid` parameter will change from True to False in version 0.22 and will be removed in 0.24. This will change numeric results when test-set sizes are unequal.\n",
      "  DeprecationWarning)\n"
     ]
    },
    {
     "name": "stdout",
     "output_type": "stream",
     "text": [
      "{'n1': 64, 'n2': 16}\n",
      "best_accuracy  0.1693577813968364\n",
      "5.362745 (7.340658) with: {'n1': 4, 'n2': 4}\n",
      "0.187558 (0.021047) with: {'n1': 4, 'n2': 8}\n",
      "0.173478 (0.011371) with: {'n1': 4, 'n2': 16}\n",
      "0.172350 (0.009797) with: {'n1': 4, 'n2': 32}\n",
      "0.173477 (0.010413) with: {'n1': 4, 'n2': 64}\n",
      "5.354579 (7.340483) with: {'n1': 8, 'n2': 4}\n",
      "0.179039 (0.018420) with: {'n1': 8, 'n2': 8}\n",
      "0.170938 (0.007667) with: {'n1': 8, 'n2': 16}\n",
      "0.170866 (0.007412) with: {'n1': 8, 'n2': 32}\n",
      "0.170096 (0.007306) with: {'n1': 8, 'n2': 64}\n",
      "0.174758 (0.012503) with: {'n1': 16, 'n2': 4}\n",
      "0.172048 (0.008100) with: {'n1': 16, 'n2': 8}\n",
      "0.171547 (0.008578) with: {'n1': 16, 'n2': 16}\n",
      "0.172896 (0.006950) with: {'n1': 16, 'n2': 32}\n",
      "0.170401 (0.005906) with: {'n1': 16, 'n2': 64}\n",
      "0.170669 (0.009357) with: {'n1': 32, 'n2': 4}\n",
      "0.171165 (0.006623) with: {'n1': 32, 'n2': 8}\n",
      "0.170128 (0.006593) with: {'n1': 32, 'n2': 16}\n",
      "0.171364 (0.005835) with: {'n1': 32, 'n2': 32}\n",
      "0.172280 (0.008270) with: {'n1': 32, 'n2': 64}\n",
      "0.171145 (0.006947) with: {'n1': 64, 'n2': 4}\n",
      "0.170560 (0.007273) with: {'n1': 64, 'n2': 8}\n",
      "0.169358 (0.005775) with: {'n1': 64, 'n2': 16}\n",
      "0.170662 (0.006997) with: {'n1': 64, 'n2': 32}\n",
      "0.170451 (0.006522) with: {'n1': 64, 'n2': 64}\n"
     ]
    }
   ],
   "source": [
    "parameters = {\n",
    "    'n1': [4, 8, 16, 32, 64],\n",
    "    'n2': [4, 8, 16, 32, 64]\n",
    "}\n",
    "\n",
    "kfold = KFold(n_splits=3, random_state=12345)\n",
    "estimator = KerasRegressor(build_fn=build_regressor, epochs=100, verbose=0)\n",
    "\n",
    "grid_search = GridSearchCV(\n",
    "    estimator=estimator,\n",
    "    param_grid=parameters,\n",
    "    scoring='neg_mean_squared_error',\n",
    "    cv=kfold,\n",
    ")\n",
    "\n",
    "grid_search = grid_search.fit(X_new, y_log1p)\n",
    "\n",
    "best_parameters = grid_search.best_params_\n",
    "best_accuracy = grid_search.best_score_\n",
    "print(best_parameters)\n",
    "print('best_accuracy ', np.abs(best_accuracy))\n",
    "\n",
    "means = grid_search.cv_results_['mean_test_score']\n",
    "stds = grid_search.cv_results_['std_test_score']\n",
    "params = grid_search.cv_results_['params']\n",
    "for mean, stdev, param in zip(means, stds, params):\n",
    "    print(\"%f (%f) with: %r\" % (np.abs(mean), stdev, param))"
   ]
  },
  {
   "cell_type": "code",
   "execution_count": 27,
   "metadata": {},
   "outputs": [
    {
     "name": "stdout",
     "output_type": "stream",
     "text": [
      "_________________________________________________________________\n",
      "Layer (type)                 Output Shape              Param #   \n",
      "=================================================================\n",
      "dense_240 (Dense)            (None, 64)                1344      \n",
      "_________________________________________________________________\n",
      "dense_241 (Dense)            (None, 16)                1040      \n",
      "_________________________________________________________________\n",
      "dense_242 (Dense)            (None, 1)                 17        \n",
      "=================================================================\n",
      "Total params: 2,401\n",
      "Trainable params: 2,401\n",
      "Non-trainable params: 0\n",
      "_________________________________________________________________\n"
     ]
    }
   ],
   "source": [
    "model = build_regressor(64, 16)\n",
    "model.summary()"
   ]
  },
  {
   "cell_type": "code",
   "execution_count": 28,
   "metadata": {},
   "outputs": [],
   "source": [
    "history = model.fit(X_train, y_train, epochs=100, validation_data=(X_test, y_test), verbose=0)"
   ]
  },
  {
   "cell_type": "code",
   "execution_count": 29,
   "metadata": {
    "scrolled": true
   },
   "outputs": [
    {
     "data": {
      "image/png": "[encoded data removed]",
      "text/plain": [
       "<Figure size 432x288 with 1 Axes>"
      ]
     },
     "metadata": {
      "needs_background": "light"
     },
     "output_type": "display_data"
    }
   ],
   "source": [
    "plot_loss(history)"
   ]
  },
  {
   "cell_type": "markdown",
   "metadata": {},
   "source": [
    "**validación cruzada**"
   ]
  },
  {
   "cell_type": "code",
   "execution_count": 30,
   "metadata": {},
   "outputs": [],
   "source": [
    "seed = 12345\n",
    "np.random.seed(seed)\n",
    "kfold = KFold(n_splits=3, random_state=seed)\n",
    "estimator = KerasRegressor(build_fn=build_regressor, n1=64, n2=16, epochs=100, verbose=0)\n",
    "results_cv = cross_val_score(estimator, X_new, y_log1p, cv=kfold, scoring='neg_mean_squared_error')"
   ]
  },
  {
   "cell_type": "code",
   "execution_count": 31,
   "metadata": {},
   "outputs": [
    {
     "name": "stdout",
     "output_type": "stream",
     "text": [
      "MSE: 0.17 +/- 0.01\n"
     ]
    }
   ],
   "source": [
    "print(f'MSE: {np.abs(results_cv.mean()):.2f} +/- {results_cv.std() * 2:.2f}')"
   ]
  }
 ],
 "metadata": {
  "colab": {
   "collapsed_sections": [],
   "name": "02-diabetes-solucion.ipynb",
   "provenance": [],
   "toc_visible": true,
   "version": "0.3.2"
  },
  "kernelspec": {
   "display_name": "Python 3",
   "language": "python",
   "name": "python3"
  },
  "language_info": {
   "codemirror_mode": {
    "name": "ipython",
    "version": 3
   },
   "file_extension": ".py",
   "mimetype": "text/x-python",
   "name": "python",
   "nbconvert_exporter": "python",
   "pygments_lexer": "ipython3",
   "version": "3.6.7"
  }
 },
 "nbformat": 4,
 "nbformat_minor": 1
}
